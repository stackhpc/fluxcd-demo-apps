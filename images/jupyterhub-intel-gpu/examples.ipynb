{
 "cells": [
  {
   "cell_type": "code",
   "execution_count": null,
   "id": "7f446447-6d6b-41d9-9cc6-90e86703d0fc",
   "metadata": {
    "scrolled": true
   },
   "outputs": [],
   "source": [
    "# See: https://pytorch.org/docs/stable/notes/get_start_xpu.html\n",
    "import torch\n",
    "torch.xpu.is_available()  # torch.xpu is the API for Intel GPU support"
   ]
  },
  {
   "cell_type": "code",
   "execution_count": null,
   "id": "80cb2dab-ac88-4486-93ab-8777ceb70f0b",
   "metadata": {},
   "outputs": [],
   "source": [
    "!clinfo -l"
   ]
  },
  {
   "cell_type": "code",
   "execution_count": null,
   "id": "5a2d7573-f0df-4ed1-906d-099e5146660c",
   "metadata": {},
   "outputs": [],
   "source": [
    "torch.xpu.device_count()"
   ]
  },
  {
   "cell_type": "code",
   "execution_count": null,
   "id": "cc672f30-01a2-403b-b90d-3669e8409c6c",
   "metadata": {},
   "outputs": [],
   "source": [
    "# Inference with FP32\n",
    "\n",
    "import torch\n",
    "import torchvision.models as models\n",
    "\n",
    "model = models.resnet50(weights=\"ResNet50_Weights.DEFAULT\")\n",
    "model.eval()\n",
    "data = torch.rand(1, 3, 224, 224)\n",
    "\n",
    "model = model.to(\"xpu\")\n",
    "data = data.to(\"xpu\")\n",
    "\n",
    "with torch.no_grad():\n",
    "    model(data)\n",
    "\n",
    "print(\"Execution finished\")\n"
   ]
  }
 ],
 "metadata": {
  "kernelspec": {
   "display_name": "Python 3 (ipykernel)",
   "language": "python",
   "name": "python3"
  },
  "language_info": {
   "codemirror_mode": {
    "name": "ipython",
    "version": 3
   },
   "file_extension": ".py",
   "mimetype": "text/x-python",
   "name": "python",
   "nbconvert_exporter": "python",
   "pygments_lexer": "ipython3",
   "version": "3.12.8"
  }
 },
 "nbformat": 4,
 "nbformat_minor": 5
}
